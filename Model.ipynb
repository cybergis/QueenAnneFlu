{
 "cells": [
  {
   "cell_type": "markdown",
   "metadata": {},
   "source": [
    "### <center> 2019 CyberGIS AAG-UCGIS Summer School - Group 5 </center>\n",
    "# <center> A Reproducible and Replicable Spatially Explicit Agent-Based Model Using CyberGIS-Jupyter: A Case Study in Queen Anne Neighborhood, Seattle, WA </center> \n",
    "\n",
    "<br>\n",
    "<center><b>Members: Alexander Michels<sup>a</sup>, Angie Werner<sup>b</sup>, Brandon Lieberthal<sup>c</sup>, Changzhen Wang<sup>d</sup>, Mishka Vance<sup>e</sup>, Li Yi<sup>f</sup> </b></center>\n",
    "\n",
    "<center> <b>Mentor: Jeon-Young Kang<sup>g</sup> </b></center>\n",
    "\n",
    "<sup font-size: smaller> <sup>a</sup> Mathematics and computational analysis, University of Illinois Urbana-Champaign<br>\n",
    "<sup>b</sup> Environmental health and epidemiology, National Environmental Public Health Tracking Program, Centers for Disease Control and Prevention<br>\n",
    "<sup>c</sup> Spatial analysis and geovisualization, University of Maine<br>\n",
    "<sup>d</sup> Geography, Louisiana State University<br>\n",
    "<sup>e</sup> Human geography, Hunter College<br>\n",
    "<sup>f</sup> Spatial analysis and modeling, geovisualization, University of Southern California<br>\n",
    "<sup>g</sup> Spatially explicit agent-based modeling, University of Illinois Urbana-Champaign<br> </sup>"
   ]
  },
  {
   "cell_type": "markdown",
   "metadata": {},
   "source": [
    "## Introduction\n",
    "\n",
    "Influenza is a contagious respiratory illness caused by influenza viruses. The flu is spread from person to person, often by droplets when those who are infected cough, sneeze, or talk. Sometimes people can be infected by touching a surface that has the virus on it, although this is not as common. Symptoms include fever, cough, sore throat, muscle aches, headaches, and fatigue. Influenza has a high burden of disease despite vaccination and public health policies that have been implemented. The CDC estimates that more than 900,000 people were hospitalized and over 80,000 people died from the flu in the 2017-2018 season (CDC, 2018).\n",
    "\n",
    "Spatial simulation modeling (also known as agent-based modeling or ABM) serves as a tool to simulate and capture various spatiotemporal phenomena. ABM can be used to explore the epidemiology and spread of certain diseases such as influenza. The phenomena being modeled are the results from dynamic interactions and behaviors of individual agents and the environments. The modeling process, however, is not always simple—it requires the conceptualization and understanding of the spatiotemporal process at an individual level. An ABM has several key components, including its agents, properties, environment, and rules, which specify how the agents interact and what happens when they interact. This work will apply a spatially explicit ABM to simulate influenza spread.\n",
    "\n",
    "## Research Question\n",
    "To what degree can a spatially explicit agent-based model simulate influenza spread in the Queen Anne neighborhood in Seattle, Washington?\n",
    "\n",
    "\n",
    "## Main Objectives  \n",
    "1. To conceptualize a spatiotemporal phenomenon: influenza transmission\n",
    "2. To capture and simulate the influenza transmission process\n",
    "3. To explore the spatiotemporal patterns of influenza outbreaks"
   ]
  },
  {
   "cell_type": "markdown",
   "metadata": {},
   "source": [
    "## Workflow\n",
    "\n",
    "<img src=\"img/WorkFlow.png\">"
   ]
  },
  {
   "cell_type": "markdown",
   "metadata": {},
   "source": [
    "## Table of Contents\n",
    "* [Load (or Find) Your Data](#data)\n",
    "* [Synthesize a Population](#synthesize)\n",
    "* [Simulation](#simulation)\n",
    "* [Visualization](#vis)\n",
    "* [Contributions to Reproducibility and Replicability](#RR)\n",
    "* [Future Work](#future)\n",
    "* [References](#ref)"
   ]
  },
  {
   "cell_type": "markdown",
   "metadata": {},
   "source": [
    "### 1. Find the Data\n",
    "\n",
    "1.1 Geographic data\n",
    "\n",
    "The geographic data of households/workplaces/schools were obtained from the [City of Seattle Open Data Hub](https://data.seattle.gov). Then, the data were extracted based on the zoning types that overlay the building footprints. The [building footprint](https://data.seattle.gov/Land-Base/Building-Outlines-2015/xyar-5y9i) and [zoning data](https://data.seattle.gov/dataset/Zoning-Detailed-/tu7p-5agf) can be downloaded by clicking the respective links.<br><br>\n",
    "\n",
    "1.2 Neighborhood selection\n",
    "\n",
    "For this workshop, we have selected Queen Anne neighborhood in Seattle as a use case example, and datasets were subsetted by choosing x and y limits (in UTM 10N coordinate system) of the Queen Anne neighborhood.\n",
    "\n",
    "> xmin = 546302; xmax = 549610; ymin = 5274394; ymax = 5277978; <br>\n",
    "nhouses_old = len(houses);\n",
    "houses = houses[(houses.X >= xmin) & (houses.X <= xmax) & (houses.Y >= ymin) & (houses.Y <= ymax)];\n",
    "nhouses_new = len(houses);\n",
    "print(nhouses_new,\" of \",nhouses_old,\" houses were selected.\") <br>\n",
    "\n",
    "<img src=\"img/queenanne_seattle.png\"> \n",
    "\n",
    "\n",
    "1.3 Human agents\n",
    "\n",
    "Interactions between the human agents and their environments (attributes and methods) are included in the Human.py and Env.py programs. The datasets needed for this include population distribution and household size. All of these datasets are at the block group level (specific to Queen Anne neighborhood) and were obtained from the American Community Survey for 2013-2017 5-year estimates.\n",
    "\n",
    "[Population distribution data - Table B01001 - Sex by Age](https://factfinder.census.gov/faces/tableservices/jsf/pages/productview.xhtml?pid=ACS_17_5YR_B01001&prodType=table)\n",
    "\n",
    "[Household size data - Table B11016 - Household Type by Household Size](https://factfinder.census.gov/faces/tableservices/jsf/pages/productview.xhtml?pid=ACS_17_5YR_B11016&prodType=table)\n",
    "\n",
    "These data were joined to the Queen Anne neighborhood block groups in order to calculate the weights for population distribution and household size across the entire neighborhood. Age groups were applied using standard 5-year age groups across 18 categories (e.g., starting with 0-4 and ending with 85+). Household size used only family households (i.e., excluded non-family households) and used six categories (size 2, size 3, size 4, size 5, and size 6 or more).\n",
    "\n",
    "1.4 Influenza data\n",
    "\n",
    "Influenza data were obtained from the 2018-2019 Weekly Flu Surveillance Reports from the Seattle & King County Department of Public Health. The starting week used was October 7 - 13 2018 and the ending week used was April 28 - May 4 2019. All weekly data were used in this time period to sum the total influenza cases (e.g., summing influenza A cases, influenza B cases, etc.) over time. These data are used to generate a plot of reference data against which to compare the results of the simulation. \n",
    "\n",
    "[Influenza data](https://www.kingcounty.gov/depts/health/communicable-diseases/disease-control/influenza.aspx)\n",
    "\n",
    "1.5 Additional data\n",
    "\n",
    "Race and median household income data were also obtained from the American Community Survey (2013-2017 5-year estimates) for the Queen Anne neighborhood block groups. This information was used for visual analysis to examine the distribution of influenza cases in relation to different sociodemographic characteristics.\n",
    "\n",
    "[Race data - Table B02001 - Race](https://factfinder.census.gov/faces/tableservices/jsf/pages/productview.xhtml?pid=ACS_17_5YR_B02001&prodType=table)\n",
    "\n",
    "[Median household income data - Table B19013 - Median household income in the past 12 months](https://factfinder.census.gov/faces/tableservices/jsf/pages/productview.xhtml?pid=ACS_17_5YR_B19013&prodType=table)\n"
   ]
  },
  {
   "cell_type": "markdown",
   "metadata": {},
   "source": [
    "### 2. Synthesize a Population \n",
    "2.1 The locations of households, schools, and workplaces are obtained by overlaying building footprints data with zoning data (e.g., residential, commercial, educational). <br>\n",
    "2.2 Age distributions and the composition of households are _**synthesized**_ as similar to American Community Survey (ACS) 2013-17 5-year estimates data (see Find the Data Section for more information). <br>\n",
    "2.3 Individual humans have age and age-dependent daily behaviors (e.g., commuting to schools (aged 6 to 19) and workplaces (aged 20 to 64), and staying at home all day (the rest of people)).\n",
    "\n",
    "### 3. Simulate a Flu Season\n",
    "3.1 A random sample of people get infected at the beginning of the simulation. <br>\n",
    "3.2 The disease process is explained through a susceptible-exposed-infectious-recovered (SEIR) model. <br>\n",
    "3.3 An individual human can spread influenza to his/her classmates/co-workers and household members.\n",
    "\n",
    "### 4. Analyze and Visualize\n",
    "4.1 The model output will be saved as 'results.csv' file. <br>\n",
    "4.2 The file consists of three columns, including 'time', 'x-coordinate', and 'y-coordinate' of influenza outbreaks."
   ]
  },
  {
   "cell_type": "markdown",
   "metadata": {},
   "source": [
    "### Codes\n",
    "\n",
    "Import necessary libraries to run this model."
   ]
  },
  {
   "cell_type": "code",
   "execution_count": 4,
   "metadata": {},
   "outputs": [
    {
     "name": "stdout",
     "output_type": "stream",
     "text": [
      "Requirement already satisfied: folium in /home/jovyan/.local/lib/python3.7/site-packages (0.10.1)\n",
      "Requirement already satisfied: jinja2>=2.9 in /opt/conda/lib/python3.7/site-packages (from folium) (2.11.1)\n",
      "Requirement already satisfied: numpy in /opt/conda/lib/python3.7/site-packages (from folium) (1.18.1)\n",
      "Requirement already satisfied: requests in /opt/conda/lib/python3.7/site-packages (from folium) (2.23.0)\n",
      "Requirement already satisfied: branca>=0.3.0 in /opt/conda/lib/python3.7/site-packages (from folium) (0.3.1)\n",
      "Requirement already satisfied: MarkupSafe>=0.23 in /opt/conda/lib/python3.7/site-packages (from jinja2>=2.9->folium) (1.1.1)\n",
      "Requirement already satisfied: certifi>=2017.4.17 in /opt/conda/lib/python3.7/site-packages (from requests->folium) (2019.11.28)\n",
      "Requirement already satisfied: urllib3!=1.25.0,!=1.25.1,<1.26,>=1.21.1 in /opt/conda/lib/python3.7/site-packages (from requests->folium) (1.25.7)\n",
      "Requirement already satisfied: idna<3,>=2.5 in /opt/conda/lib/python3.7/site-packages (from requests->folium) (2.9)\n",
      "Requirement already satisfied: chardet<4,>=3.0.2 in /opt/conda/lib/python3.7/site-packages (from requests->folium) (3.0.4)\n",
      "Requirement already satisfied: six in /opt/conda/lib/python3.7/site-packages (from branca>=0.3.0->folium) (1.14.0)\n"
     ]
    }
   ],
   "source": [
    "!pip install --user folium"
   ]
  },
  {
   "cell_type": "code",
   "execution_count": 33,
   "metadata": {},
   "outputs": [],
   "source": [
    "import numpy as np\n",
    "import folium, itertools, math, pickle, random, time\n",
    "import pandas as pd\n",
    "import matplotlib.pyplot as plt\n",
    "import matplotlib.pylab as pylab\n",
    "import matplotlib.image as mpimg\n",
    "import matplotlib.animation as animation\n",
    "from os import path\n",
    "\n",
    "from pyproj import Proj, transform\n",
    "\n",
    "import os\n",
    "os.environ[\"PROJ_LIB\"] = '/opt/conda/envs/python2/share/proj'"
   ]
  },
  {
   "cell_type": "code",
   "execution_count": 34,
   "metadata": {},
   "outputs": [],
   "source": [
    "import Env\n",
    "import Human"
   ]
  },
  {
   "cell_type": "markdown",
   "metadata": {},
   "source": [
    "Import python codes containing the classes and functions for environment and human behaviors."
   ]
  },
  {
   "cell_type": "markdown",
   "metadata": {},
   "source": [
    "<a name=\"data\"></a>\n",
    "## Load (or Find) Your Data"
   ]
  },
  {
   "cell_type": "markdown",
   "metadata": {},
   "source": [
    "Files of households, workplaces, and schools for the Queen Anne neighborhood are imported."
   ]
  },
  {
   "cell_type": "markdown",
   "metadata": {},
   "source": [
    "Choose x and y limits (in UTM) and filter houses to select those in the Queen Anne neighborhood."
   ]
  },
  {
   "cell_type": "code",
   "execution_count": 35,
   "metadata": {},
   "outputs": [
    {
     "name": "stdout",
     "output_type": "stream",
     "text": [
      "16755  of  391992  houses filtered.\n"
     ]
    }
   ],
   "source": [
    "# Files of households, workplaces, and schools are imported.\n",
    "CITY = \"QueenAnne\" # name of the city you're loading data for\n",
    "houses = pd.read_csv('./data/{}/houses_points.csv'.format(CITY))\n",
    "schools = pd.read_csv('./data/{}/schools_points.csv'.format(CITY))\n",
    "works = pd.read_csv('./data/{}/works_points.csv'.format(CITY))\n",
    "\n",
    "# Choose x and y limits (in UTM) and filter houses\n",
    "xmin = 546302;\n",
    "xmax = 549610;\n",
    "ymin = 5274394;\n",
    "ymax = 5277978;\n",
    "nhouses_old = len(houses);\n",
    "houses = houses[(houses.X >= xmin) & (houses.X <= xmax) & (houses.Y >= ymin) & (houses.Y <= ymax)];\n",
    "nhouses_new = len(houses);\n",
    "print(nhouses_new,\" of \",nhouses_old,\" houses filtered.\")"
   ]
  },
  {
   "cell_type": "markdown",
   "metadata": {},
   "source": [
    "Inspect first five rows of the house, school, and workplace datasets, then create figures to plot the house, school, and workplace datasets."
   ]
  },
  {
   "cell_type": "code",
   "execution_count": 36,
   "metadata": {
    "scrolled": true
   },
   "outputs": [
    {
     "data": {
      "text/html": [
       "<div>\n",
       "<style scoped>\n",
       "    .dataframe tbody tr th:only-of-type {\n",
       "        vertical-align: middle;\n",
       "    }\n",
       "\n",
       "    .dataframe tbody tr th {\n",
       "        vertical-align: top;\n",
       "    }\n",
       "\n",
       "    .dataframe thead th {\n",
       "        text-align: right;\n",
       "    }\n",
       "</style>\n",
       "<table border=\"1\" class=\"dataframe\">\n",
       "  <thead>\n",
       "    <tr style=\"text-align: right;\">\n",
       "      <th></th>\n",
       "      <th>houseID</th>\n",
       "      <th>DESCR</th>\n",
       "      <th>X</th>\n",
       "      <th>Y</th>\n",
       "      <th>Shape_Length</th>\n",
       "      <th>Shape_Area</th>\n",
       "      <th>color</th>\n",
       "      <th>lat</th>\n",
       "      <th>lon</th>\n",
       "    </tr>\n",
       "  </thead>\n",
       "  <tbody>\n",
       "    <tr>\n",
       "      <th>0</th>\n",
       "      <td>14</td>\n",
       "      <td>Multi-Family</td>\n",
       "      <td>546383.0609</td>\n",
       "      <td>5277176.021</td>\n",
       "      <td>39.147069</td>\n",
       "      <td>90.045604</td>\n",
       "      <td>#44B222</td>\n",
       "      <td>47.646319</td>\n",
       "      <td>-122.382414</td>\n",
       "    </tr>\n",
       "    <tr>\n",
       "      <th>1</th>\n",
       "      <td>15</td>\n",
       "      <td>Multi-Family</td>\n",
       "      <td>546332.4273</td>\n",
       "      <td>5277159.527</td>\n",
       "      <td>38.950530</td>\n",
       "      <td>84.198371</td>\n",
       "      <td>#44B222</td>\n",
       "      <td>47.646174</td>\n",
       "      <td>-122.383090</td>\n",
       "    </tr>\n",
       "    <tr>\n",
       "      <th>2</th>\n",
       "      <td>16</td>\n",
       "      <td>Multi-Family</td>\n",
       "      <td>546357.1243</td>\n",
       "      <td>5277185.342</td>\n",
       "      <td>46.210541</td>\n",
       "      <td>117.874763</td>\n",
       "      <td>#44B222</td>\n",
       "      <td>47.646405</td>\n",
       "      <td>-122.382758</td>\n",
       "    </tr>\n",
       "    <tr>\n",
       "      <th>7</th>\n",
       "      <td>21</td>\n",
       "      <td>Multi-Family</td>\n",
       "      <td>546384.6356</td>\n",
       "      <td>5277268.185</td>\n",
       "      <td>72.561298</td>\n",
       "      <td>259.678237</td>\n",
       "      <td>#44B222</td>\n",
       "      <td>47.647148</td>\n",
       "      <td>-122.382383</td>\n",
       "    </tr>\n",
       "    <tr>\n",
       "      <th>15</th>\n",
       "      <td>77</td>\n",
       "      <td>Multi-Family</td>\n",
       "      <td>546349.0929</td>\n",
       "      <td>5277102.132</td>\n",
       "      <td>53.187976</td>\n",
       "      <td>151.622510</td>\n",
       "      <td>#44B222</td>\n",
       "      <td>47.645657</td>\n",
       "      <td>-122.382874</td>\n",
       "    </tr>\n",
       "  </tbody>\n",
       "</table>\n",
       "</div>"
      ],
      "text/plain": [
       "    houseID         DESCR            X            Y  Shape_Length  Shape_Area  \\\n",
       "0        14  Multi-Family  546383.0609  5277176.021     39.147069   90.045604   \n",
       "1        15  Multi-Family  546332.4273  5277159.527     38.950530   84.198371   \n",
       "2        16  Multi-Family  546357.1243  5277185.342     46.210541  117.874763   \n",
       "7        21  Multi-Family  546384.6356  5277268.185     72.561298  259.678237   \n",
       "15       77  Multi-Family  546349.0929  5277102.132     53.187976  151.622510   \n",
       "\n",
       "      color        lat         lon  \n",
       "0   #44B222  47.646319 -122.382414  \n",
       "1   #44B222  47.646174 -122.383090  \n",
       "2   #44B222  47.646405 -122.382758  \n",
       "7   #44B222  47.647148 -122.382383  \n",
       "15  #44B222  47.645657 -122.382874  "
      ]
     },
     "execution_count": 36,
     "metadata": {},
     "output_type": "execute_result"
    }
   ],
   "source": [
    "house_cat = houses.DESCR.unique().tolist() # Obtain the type of households\n",
    "house_dict = {}\n",
    "rd_color =[\"#\"+''.join([random.choice('0123456789ABCDEF') for j in range(6)]) \n",
    "                 for i in range(len(house_cat))]  # generated random color based on the types of households\n",
    "for i in range(len(house_cat)):    \n",
    "    houses.loc[houses['DESCR'] == house_cat[i], 'color'] = rd_color[i]   # set value for color column\n",
    "    house_dict[house_cat[i]] = rd_color[i]\n",
    "housemyProj = Proj(\"+proj=utm +zone=10N, +north +ellps=WGS84 +datum=WGS84 +units=m +no_defs\")\n",
    "houselonlat = housemyProj(houses['X'].values.tolist(), houses['Y'].values.tolist(), inverse=True)\n",
    "houses['lat'] = houselonlat[1]\n",
    "houses['lon'] = houselonlat[0]\n",
    "houses.head()"
   ]
  },
  {
   "cell_type": "code",
   "execution_count": 37,
   "metadata": {},
   "outputs": [
    {
     "data": {
      "text/html": [
       "<div>\n",
       "<style scoped>\n",
       "    .dataframe tbody tr th:only-of-type {\n",
       "        vertical-align: middle;\n",
       "    }\n",
       "\n",
       "    .dataframe tbody tr th {\n",
       "        vertical-align: top;\n",
       "    }\n",
       "\n",
       "    .dataframe thead th {\n",
       "        text-align: right;\n",
       "    }\n",
       "</style>\n",
       "<table border=\"1\" class=\"dataframe\">\n",
       "  <thead>\n",
       "    <tr style=\"text-align: right;\">\n",
       "      <th></th>\n",
       "      <th>schoolID</th>\n",
       "      <th>CODE</th>\n",
       "      <th>NAME</th>\n",
       "      <th>ABB_NAME</th>\n",
       "      <th>X</th>\n",
       "      <th>Y</th>\n",
       "      <th>color</th>\n",
       "      <th>lat</th>\n",
       "      <th>lon</th>\n",
       "    </tr>\n",
       "  </thead>\n",
       "  <tbody>\n",
       "    <tr>\n",
       "      <th>0</th>\n",
       "      <td>1</td>\n",
       "      <td>College or University</td>\n",
       "      <td>Cornish College of the Arts</td>\n",
       "      <td>Cornish College</td>\n",
       "      <td>549874.0518</td>\n",
       "      <td>5274074.670</td>\n",
       "      <td>#B65EF2</td>\n",
       "      <td>47.618156</td>\n",
       "      <td>-122.336288</td>\n",
       "    </tr>\n",
       "    <tr>\n",
       "      <th>1</th>\n",
       "      <td>2</td>\n",
       "      <td>Elementary</td>\n",
       "      <td>St. Paul School</td>\n",
       "      <td>St. Paul</td>\n",
       "      <td>555512.6343</td>\n",
       "      <td>5262151.157</td>\n",
       "      <td>#916732</td>\n",
       "      <td>47.510420</td>\n",
       "      <td>-122.262764</td>\n",
       "    </tr>\n",
       "    <tr>\n",
       "      <th>2</th>\n",
       "      <td>3</td>\n",
       "      <td>Elementary</td>\n",
       "      <td>Amazing Grace Christian School</td>\n",
       "      <td>Amazing Grace</td>\n",
       "      <td>555738.5532</td>\n",
       "      <td>5262203.525</td>\n",
       "      <td>#916732</td>\n",
       "      <td>47.510872</td>\n",
       "      <td>-122.259758</td>\n",
       "    </tr>\n",
       "    <tr>\n",
       "      <th>3</th>\n",
       "      <td>4</td>\n",
       "      <td>Elementary</td>\n",
       "      <td>St. Anne School</td>\n",
       "      <td>St. Anne</td>\n",
       "      <td>548220.3227</td>\n",
       "      <td>5275499.850</td>\n",
       "      <td>#916732</td>\n",
       "      <td>47.631104</td>\n",
       "      <td>-122.358137</td>\n",
       "    </tr>\n",
       "    <tr>\n",
       "      <th>4</th>\n",
       "      <td>5</td>\n",
       "      <td>Elementary</td>\n",
       "      <td>Lowell Elementary School</td>\n",
       "      <td>Lowell</td>\n",
       "      <td>551216.9704</td>\n",
       "      <td>5274783.294</td>\n",
       "      <td>#916732</td>\n",
       "      <td>47.624427</td>\n",
       "      <td>-122.318335</td>\n",
       "    </tr>\n",
       "  </tbody>\n",
       "</table>\n",
       "</div>"
      ],
      "text/plain": [
       "   schoolID                   CODE                            NAME  \\\n",
       "0         1  College or University     Cornish College of the Arts   \n",
       "1         2             Elementary                 St. Paul School   \n",
       "2         3             Elementary  Amazing Grace Christian School   \n",
       "3         4             Elementary                 St. Anne School   \n",
       "4         5             Elementary        Lowell Elementary School   \n",
       "\n",
       "          ABB_NAME            X            Y    color        lat         lon  \n",
       "0  Cornish College  549874.0518  5274074.670  #B65EF2  47.618156 -122.336288  \n",
       "1         St. Paul  555512.6343  5262151.157  #916732  47.510420 -122.262764  \n",
       "2    Amazing Grace  555738.5532  5262203.525  #916732  47.510872 -122.259758  \n",
       "3         St. Anne  548220.3227  5275499.850  #916732  47.631104 -122.358137  \n",
       "4           Lowell  551216.9704  5274783.294  #916732  47.624427 -122.318335  "
      ]
     },
     "execution_count": 37,
     "metadata": {},
     "output_type": "execute_result"
    }
   ],
   "source": [
    "school_cat = schools.CODE.unique().tolist() # Obtain the type of schools\n",
    "school_dict = {}\n",
    "rd_color =[\"#\"+''.join([random.choice('0123456789ABCDEF') for j in range(6)]) \n",
    "                 for i in range(len(school_cat))]   # generate random color based on the types of schools\n",
    "for i in range(len(school_cat)):    \n",
    "    schools.loc[schools['CODE'] == school_cat[i], 'color'] = rd_color[i]   # set value for color column\n",
    "    school_dict[school_cat[i]] = rd_color[i]\n",
    "    \n",
    "schoolmyProj = Proj(\"+proj=utm +zone=10N, +north +ellps=WGS84 +datum=WGS84 +units=m +no_defs\")\n",
    "schoollonlat = schoolmyProj(schools['X'].values.tolist(), schools['Y'].values.tolist(), inverse=True)\n",
    "schools['lat'] = schoollonlat[1]\n",
    "schools['lon'] = schoollonlat[0]\n",
    "schools.head()"
   ]
  },
  {
   "cell_type": "code",
   "execution_count": 38,
   "metadata": {},
   "outputs": [
    {
     "data": {
      "text/html": [
       "<div>\n",
       "<style scoped>\n",
       "    .dataframe tbody tr th:only-of-type {\n",
       "        vertical-align: middle;\n",
       "    }\n",
       "\n",
       "    .dataframe tbody tr th {\n",
       "        vertical-align: top;\n",
       "    }\n",
       "\n",
       "    .dataframe thead th {\n",
       "        text-align: right;\n",
       "    }\n",
       "</style>\n",
       "<table border=\"1\" class=\"dataframe\">\n",
       "  <thead>\n",
       "    <tr style=\"text-align: right;\">\n",
       "      <th></th>\n",
       "      <th>workID</th>\n",
       "      <th>DESCR</th>\n",
       "      <th>X</th>\n",
       "      <th>Y</th>\n",
       "      <th>Shape_Length</th>\n",
       "      <th>Shape_Area</th>\n",
       "      <th>color</th>\n",
       "      <th>lat</th>\n",
       "      <th>lon</th>\n",
       "    </tr>\n",
       "  </thead>\n",
       "  <tbody>\n",
       "    <tr>\n",
       "      <th>0</th>\n",
       "      <td>1</td>\n",
       "      <td>Commercial/Mixed Use</td>\n",
       "      <td>545239.5425</td>\n",
       "      <td>5279310.598</td>\n",
       "      <td>20.764958</td>\n",
       "      <td>28.055354</td>\n",
       "      <td>#9E56A2</td>\n",
       "      <td>47.665605</td>\n",
       "      <td>-122.397418</td>\n",
       "    </tr>\n",
       "    <tr>\n",
       "      <th>1</th>\n",
       "      <td>2</td>\n",
       "      <td>Manufacturing/Industrial</td>\n",
       "      <td>546827.6875</td>\n",
       "      <td>5278198.516</td>\n",
       "      <td>38.236831</td>\n",
       "      <td>80.410245</td>\n",
       "      <td>#5249AE</td>\n",
       "      <td>47.655487</td>\n",
       "      <td>-122.376385</td>\n",
       "    </tr>\n",
       "    <tr>\n",
       "      <th>2</th>\n",
       "      <td>3</td>\n",
       "      <td>Commercial/Mixed Use</td>\n",
       "      <td>546775.8362</td>\n",
       "      <td>5277486.733</td>\n",
       "      <td>81.645021</td>\n",
       "      <td>338.953912</td>\n",
       "      <td>#9E56A2</td>\n",
       "      <td>47.649086</td>\n",
       "      <td>-122.377151</td>\n",
       "    </tr>\n",
       "    <tr>\n",
       "      <th>3</th>\n",
       "      <td>4</td>\n",
       "      <td>Commercial/Mixed Use</td>\n",
       "      <td>546778.9302</td>\n",
       "      <td>5277470.385</td>\n",
       "      <td>110.783883</td>\n",
       "      <td>499.581222</td>\n",
       "      <td>#9E56A2</td>\n",
       "      <td>47.648939</td>\n",
       "      <td>-122.377112</td>\n",
       "    </tr>\n",
       "    <tr>\n",
       "      <th>4</th>\n",
       "      <td>5</td>\n",
       "      <td>Commercial/Mixed Use</td>\n",
       "      <td>546779.4392</td>\n",
       "      <td>5277502.181</td>\n",
       "      <td>91.714040</td>\n",
       "      <td>403.465279</td>\n",
       "      <td>#9E56A2</td>\n",
       "      <td>47.649225</td>\n",
       "      <td>-122.377102</td>\n",
       "    </tr>\n",
       "  </tbody>\n",
       "</table>\n",
       "</div>"
      ],
      "text/plain": [
       "   workID                     DESCR            X            Y  Shape_Length  \\\n",
       "0       1      Commercial/Mixed Use  545239.5425  5279310.598     20.764958   \n",
       "1       2  Manufacturing/Industrial  546827.6875  5278198.516     38.236831   \n",
       "2       3      Commercial/Mixed Use  546775.8362  5277486.733     81.645021   \n",
       "3       4      Commercial/Mixed Use  546778.9302  5277470.385    110.783883   \n",
       "4       5      Commercial/Mixed Use  546779.4392  5277502.181     91.714040   \n",
       "\n",
       "   Shape_Area    color        lat         lon  \n",
       "0   28.055354  #9E56A2  47.665605 -122.397418  \n",
       "1   80.410245  #5249AE  47.655487 -122.376385  \n",
       "2  338.953912  #9E56A2  47.649086 -122.377151  \n",
       "3  499.581222  #9E56A2  47.648939 -122.377112  \n",
       "4  403.465279  #9E56A2  47.649225 -122.377102  "
      ]
     },
     "execution_count": 38,
     "metadata": {},
     "output_type": "execute_result"
    }
   ],
   "source": [
    "work_cat = works.DESCR.unique().tolist() # obtain the type of workplaces\n",
    "work_dict = {}\n",
    "rd_color =[\"#\"+''.join([random.choice('0123456789ABCDEF') for j in range(6)])\n",
    "                 for i in range(len(work_cat))]  # generate random color based on the types of workplaces\n",
    "for i in range(len(work_cat)):    \n",
    "    works.loc[works['DESCR'] == work_cat[i], 'color'] = rd_color[i]   # set value for color column\n",
    "    work_dict[work_cat[i]] = rd_color[i]\n",
    "    \n",
    "workmyProj = Proj(\"+proj=utm +zone=10N, +north +ellps=WGS84 +datum=WGS84 +units=m +no_defs\")\n",
    "worklonlat = workmyProj(works['X'].values.tolist(), works['Y'].values.tolist(), inverse=True)\n",
    "works['lat'] = worklonlat[1]\n",
    "works['lon'] = worklonlat[0]\n",
    "works.head()"
   ]
  },
  {
   "cell_type": "code",
   "execution_count": 39,
   "metadata": {},
   "outputs": [
    {
     "name": "stdout",
     "output_type": "stream",
     "text": [
      "The number of Multi-Family households is  5282\n",
      "The number of Single Family households is  11473\n",
      "The number of households in total: 16755\n"
     ]
    }
   ],
   "source": [
    "# count the number by house types\n",
    "for key,value in house_dict.items():\n",
    "    sub_houses = houses[houses.DESCR == key]\n",
    "    print(\"The number of\", key, \"households is \",len(sub_houses)) # counting the number of houeholds\n",
    "\n",
    "print(\"The number of households in total:\", len(houses)) # counting the number of households"
   ]
  },
  {
   "cell_type": "markdown",
   "metadata": {},
   "source": [
    "#### Codes to produce the interactive map for houses and save the map as a .html\n",
    ">m = folium.Map(location=[47.638972, -122.361579], tiles='cartodbpositron', zoom_start=14) \n",
    "for i in range(0, len(houses)):\n",
    "   folium.CircleMarker(\n",
    "      location=[houses.iloc[i]['lat'], houses.iloc[i]['lon']],\n",
    "      popup=houses.iloc[i]['DESCR'],\n",
    "      radius=2,\n",
    "      color='grey',\n",
    "      weight=0.1,\n",
    "      fill=True,\n",
    "      fill_color=houses.iloc[i]['color'],\n",
    "      fill_opacity=0.6,\n",
    "      legend_name = 'Number of incidents per district'\n",
    "   ).add_to(m)\n",
    "legend_html =   '''<div style=\"position: fixed; width: auto; heigh: auto;\n",
    "                            bottom: 10px; left: 10px;\n",
    "                            solid grey; z-index:9999; font-size:14px;\n",
    "                            \">&nbsp; Legend<br>'''\n",
    "color_leg = \"\"\n",
    "for key, value in house_dict.items():\n",
    "    color_leg += '&nbsp; <i class=\"fa fa-circle\" style=\"font-size:10px; color: '+ value + '\"></i>' +'&nbsp;'\n",
    "    color_leg += key + '<br>'\n",
    "legend_html += color_leg + '</div>'''\n",
    "m.get_root().html.add_child(folium.Element(legend_html))\n",
    "m.save('maps/houses_interactive_map.html')"
   ]
  },
  {
   "cell_type": "code",
   "execution_count": 55,
   "metadata": {
    "scrolled": false
   },
   "outputs": [
    {
     "data": {
      "text/html": [
       "\n",
       "        <iframe\n",
       "            width=\"900\"\n",
       "            height=\"700\"\n",
       "            src=\"maps/houses_interactive_map.html\"\n",
       "            frameborder=\"0\"\n",
       "            allowfullscreen\n",
       "        ></iframe>\n",
       "        "
      ],
      "text/plain": [
       "<IPython.lib.display.IFrame at 0x7f8d87d746d0>"
      ]
     },
     "execution_count": 55,
     "metadata": {},
     "output_type": "execute_result"
    }
   ],
   "source": [
    "# display the interactive map for houses\n",
    "\n",
    "from IPython.display import IFrame\n",
    "\n",
    "IFrame(src='maps/houses_interactive_map.html', width=900, height=700)"
   ]
  },
  {
   "cell_type": "code",
   "execution_count": 56,
   "metadata": {},
   "outputs": [
    {
     "name": "stdout",
     "output_type": "stream",
     "text": [
      "The number of College or University schools is  13\n",
      "The number of Elementary schools is  103\n",
      "The number of High schools is  22\n",
      "The number of Alternative schools is  24\n",
      "The number of Junior High/Middle schools is  18\n",
      "The number of Other Facility schools is  2\n",
      "The number of K-12 schools is  1\n",
      "The number of schools in total: 183\n"
     ]
    }
   ],
   "source": [
    "# count the number by school types\n",
    "for key,value in school_dict.items():\n",
    "    sub_schools = schools[schools.CODE == key]\n",
    "    print(\"The number of\", key, \"schools is \",len(sub_schools)) # counting the number of schools\n",
    "\n",
    "print(\"The number of schools in total:\", len(schools)) # counting the number of schools"
   ]
  },
  {
   "cell_type": "markdown",
   "metadata": {},
   "source": [
    "#### Codes to produce the interactive map for schools and save the map as a .html\n",
    ">m = folium.Map(location=[47.638972, -122.361579], tiles='cartodbpositron', zoom_start=14) \n",
    "for i in range(0, len(schools)):\n",
    "   folium.CircleMarker(\n",
    "      location=[schools.iloc[i]['lat'], schools.iloc[i]['lon']],\n",
    "      popup=schools.iloc[i]['NAME'],\n",
    "      radius=5,\n",
    "      color='grey',\n",
    "      weight=0.1,\n",
    "      fill=True,\n",
    "      fill_color=schools.iloc[i]['color'],\n",
    "      fill_opacity=0.6,\n",
    "      legend_name = 'Number of incidents per district'\n",
    "   ).add_to(m)<br>\n",
    "legend_html =   '''<div style=\"position: fixed; width: 20%; heigh: auto;\n",
    "                            bottom: 10px; left: 10px;\n",
    "                            solid grey; z-index:9999; font-size:14px;\n",
    "                            \">&nbsp; Legend<br>'''\n",
    "color_leg = \"\"\n",
    "for key, value in school_dict.items():\n",
    "    color_leg += '&nbsp; <i class=\"fa fa-circle\" style=\"font-size:10px;color: '+ value + '\"></i>' +'&nbsp;'\n",
    "    color_leg += key + '<br>'\n",
    "legend_html += color_leg + '</div>'''\n",
    "m.get_root().html.add_child(folium.Element(legend_html))\n",
    "m.save('maps/schools_interactive_map.html')"
   ]
  },
  {
   "cell_type": "code",
   "execution_count": 57,
   "metadata": {
    "scrolled": false
   },
   "outputs": [
    {
     "data": {
      "text/html": [
       "\n",
       "        <iframe\n",
       "            width=\"900\"\n",
       "            height=\"700\"\n",
       "            src=\"maps/schools_interactive_map.html\"\n",
       "            frameborder=\"0\"\n",
       "            allowfullscreen\n",
       "        ></iframe>\n",
       "        "
      ],
      "text/plain": [
       "<IPython.lib.display.IFrame at 0x7f8d811e6d50>"
      ]
     },
     "execution_count": 57,
     "metadata": {},
     "output_type": "execute_result"
    }
   ],
   "source": [
    "# display the interactive map\n",
    "from IPython.display import IFrame\n",
    "\n",
    "IFrame(src='maps/schools_interactive_map.html', width=900, height=700)"
   ]
  },
  {
   "cell_type": "code",
   "execution_count": 58,
   "metadata": {
    "scrolled": false
   },
   "outputs": [
    {
     "name": "stdout",
     "output_type": "stream",
     "text": [
      "The number of Commercial/Mixed Use workplace is  15040\n",
      "The number of Manufacturing/Industrial workplace is  6066\n",
      "The number of Downtown workplace is  1672\n",
      "The number of workplace in total: 22778\n"
     ]
    }
   ],
   "source": [
    "# count the number by workplace types\n",
    "for key, value in work_dict.items():\n",
    "    sub_works = works[works.DESCR == key]\n",
    "    print(\"The number of\", key, \"workplace is \",len(sub_works)) # counting the number of schools\n",
    "print(\"The number of workplace in total:\", len(works)) # counting the number of schools"
   ]
  },
  {
   "cell_type": "markdown",
   "metadata": {},
   "source": [
    "#### Codes to produce the interactive map for workplaces and save the map as a .html\n",
    ">m = folium.Map(location=[47.638972, -122.361579], tiles='cartodbpositron', zoom_start=14) \n",
    "for i in range(0, len(works)):\n",
    "   folium.CircleMarker(\n",
    "      location=[works.iloc[i]['lat'], works.iloc[i]['lon']],\n",
    "      popup=works.iloc[i]['DESCR'],\n",
    "      radius=2,\n",
    "      color='grey',\n",
    "      weight=0.1,\n",
    "      fill=True,\n",
    "      fill_color=works.iloc[i]['color'],\n",
    "      fill_opacity=0.6 \n",
    "   ).add_to(m)\n",
    "legend_html =   '''<div style=\"position: fixed; width: 23%; heigh: auto;\n",
    "                            bottom: 10px; left: 10px;\n",
    "                            solid grey; z-index:9999; font-size:14px;\n",
    "                            \">&nbsp; Legend<br>'''\n",
    "color_leg = \"\"\n",
    "for key, value in work_dict.items():\n",
    "    color_leg += '&nbsp; <i class=\"fa fa-circle\" style=\"font-size:10px;color: '+ value + '\"></i>' +'&nbsp;'\n",
    "    color_leg += key + '<br>'\n",
    "legend_html += color_leg + '</div>'''\n",
    "m.get_root().html.add_child(folium.Element(legend_html))\n",
    "m.save('maps/works_interactive_map.html')"
   ]
  },
  {
   "cell_type": "code",
   "execution_count": 59,
   "metadata": {
    "scrolled": false
   },
   "outputs": [
    {
     "data": {
      "text/html": [
       "\n",
       "        <iframe\n",
       "            width=\"900\"\n",
       "            height=\"700\"\n",
       "            src=\"maps/works_interactive_map.html\"\n",
       "            frameborder=\"0\"\n",
       "            allowfullscreen\n",
       "        ></iframe>\n",
       "        "
      ],
      "text/plain": [
       "<IPython.lib.display.IFrame at 0x7f8d853e49d0>"
      ]
     },
     "execution_count": 59,
     "metadata": {},
     "output_type": "execute_result"
    }
   ],
   "source": [
    "# display the interactive map\n",
    "from IPython.display import IFrame\n",
    "IFrame(src='maps/works_interactive_map.html', width=900, height=700)"
   ]
  },
  {
   "cell_type": "markdown",
   "metadata": {},
   "source": [
    "Before running the simulation, the environments (schools, workplaces, households) and individual human agents needs to be set up. <br> \n",
    "The functions of _settingSchools ()_, _settingWorks()_, and _settingHouseholds()_ are included in _Env.py_. <br> \n",
    "The function of _settingHumanAgent()_ is included in _Human.py_."
   ]
  },
  {
   "cell_type": "markdown",
   "metadata": {},
   "source": [
    "<a name=\"synthesize\"></a>\n",
    "## Synthesize a Population"
   ]
  },
  {
   "cell_type": "code",
   "execution_count": 17,
   "metadata": {},
   "outputs": [
    {
     "name": "stdout",
     "output_type": "stream",
     "text": [
      "...loaded school data from pickle...\n",
      "...loaded work list from pickle...\n",
      "...loaded house list from pickle...\n",
      "...loaded people list from pickle...\n"
     ]
    }
   ],
   "source": [
    "try: # try to open the preprocessed data\n",
    "    with open(\"data/{}/schoolList.pickle\".format(CITY), \"rb\") as f:\n",
    "        schoolList = pickle.load(f)\n",
    "    print(\"...loaded school data from pickle...\")\n",
    "except: # if data does not exist, write it\n",
    "    schoolList = Env.settingSchools('./data/{}'.format(CITY))\n",
    "    with open(\"data/{}/schoolList.pickle\".format(CITY), \"wb\") as f:\n",
    "        pickle.dump(schoolList, f)\n",
    "try:\n",
    "    with open(\"data/{}/workList.pickle\".format(CITY), \"rb\") as f:\n",
    "        workList = pickle.load(f)\n",
    "    print(\"...loaded work list from pickle...\")\n",
    "except:\n",
    "    workList = Env.settingWorks('./data/{}'.format(CITY))\n",
    "    with open(\"data/{}/workList.pickle\".format(CITY), \"wb\") as f:\n",
    "        pickle.dump(workList, f)\n",
    "try:\n",
    "    with open(\"data/{}/houseList.pickle\".format(CITY), \"rb\") as f:\n",
    "        houseList = pickle.load(f)\n",
    "    print(\"...loaded house list from pickle...\")\n",
    "except:\n",
    "    houseList = Env.settingHouseholds('./data/{}'.format(CITY), schoolList, workList, houses = houses)\n",
    "    with open(\"data/{}/houseList.pickle\".format(CITY), \"wb\") as f:\n",
    "        pickle.dump(houseList, f)\n",
    "try:\n",
    "    with open(\"data/{}/peopleList.pickle\".format(CITY), \"rb\") as f:\n",
    "        peopleList = pickle.load(f)\n",
    "    print(\"...loaded people list from pickle...\")\n",
    "except:\n",
    "    peopleList = Human.settingHumanAgent(houseList)\n",
    "    with open(\"data/{}/peopleList.pickle\".format(CITY), \"wb\") as f:\n",
    "        pickle.dump(peopleList, f)"
   ]
  },
  {
   "cell_type": "markdown",
   "metadata": {},
   "source": [
    "Inspect the age distribution of the human agents."
   ]
  },
  {
   "cell_type": "code",
   "execution_count": 18,
   "metadata": {
    "scrolled": false
   },
   "outputs": [
    {
     "name": "stdout",
     "output_type": "stream",
     "text": [
      "Total population: 33648\n"
     ]
    },
    {
     "data": {
      "image/png": "[encoded data removed]",
      "text/plain": [
       "<Figure size 720x720 with 1 Axes>"
      ]
     },
     "metadata": {
      "needs_background": "light"
     },
     "output_type": "display_data"
    }
   ],
   "source": [
    "# make a histogram for age distributions of human agents\n",
    "age = [peopleList[i].age for i in range(0,len(peopleList))] # make a list for people's age\n",
    "plt.figure(figsize=(10,10))\n",
    "plt.hist(age, bins=20, color='orange', edgecolor='black', linewidth=1.2)\n",
    "plt.xlabel(\"Age\", size=15)\n",
    "plt.ylabel(\"Number of people\", size=15)\n",
    "print(\"Total population:\", len(peopleList))"
   ]
  },
  {
   "cell_type": "markdown",
   "metadata": {},
   "source": [
    "### Visualizing the Contact Network\n",
    "\n",
    "We are working with a very large simulated data set that networkx is incapable of visualizing, but it is able to visualize subsets (or rather subgraphs)! We have provided two ways to subset your graphs, randomly subsampling by person ID and by taking all people in a geographic subset of our study area.\n",
    "\n",
    "To help ease the computational strain on networkx, we are using something called a *line graph* rather than a graph. A *line graph* of an undirected graph G, is a graph that represents the adjacencies between the edges of G. In our case, this means instead of the nodes being people and the edges being places they visit, the nodes are places and the edges are people that visit both places. Because of our model assumptions that people are tied to their houses, schools, and places of work, a line graph reduces the graph while preserving all connectivity information.\n",
    "\n",
    "This is the line graph for Queen Anne by randomly selecting every 10th person:\n",
    "\n",
    "![Graph here](img/GraphRandomSubsample.png)\n",
    "\n",
    "This is the line graph for Queen Anne by taking a geographic subset (people within the bounding box x in (547,956 - 548,783) and y in (5,277,186 - 5,277,082))\n",
    "\n",
    "![Graph here](img/GraphGeosample.png)"
   ]
  },
  {
   "cell_type": "markdown",
   "metadata": {},
   "source": [
    "### Initial settings of the ABM model\n",
    "\n",
    "1. introRate: the number of people who are randomized as exposed at the beginning of the simulation.\n",
    "\n",
    "2. reproduction: the expected average number of secondary infection cases taking place per a single infection case.\n",
    "\n",
    "3. infRate: the probability that an individual human becomes infectious when he/she contacts an infectious person.\n",
    "\n",
    "4. days: the duration for the simulation to be run. \n",
    "\n",
    "_Attention!!!_ Now, this model is assumed to be run for 30 days, but to be fully completed, the days parameter should be 155. "
   ]
  },
  {
   "cell_type": "code",
   "execution_count": 19,
   "metadata": {},
   "outputs": [
    {
     "data": {
      "application/vnd.jupyter.widget-view+json": {
       "model_id": "7c4296c2b31e49df8905a3780feeef11",
       "version_major": 2,
       "version_minor": 0
      },
      "text/plain": [
       "IntSlider(value=5, description='introRate', max=10)"
      ]
     },
     "metadata": {},
     "output_type": "display_data"
    },
    {
     "data": {
      "application/vnd.jupyter.widget-view+json": {
       "model_id": "800ede5739f047bab2eb2ac795ea900e",
       "version_major": 2,
       "version_minor": 0
      },
      "text/plain": [
       "FloatSlider(value=2.4, description='reproduction', max=5.0)"
      ]
     },
     "metadata": {},
     "output_type": "display_data"
    },
    {
     "data": {
      "application/vnd.jupyter.widget-view+json": {
       "model_id": "f656ff0176f04782af9bea8eb6424c0e",
       "version_major": 2,
       "version_minor": 0
      },
      "text/plain": [
       "FloatSlider(value=0.18, description='infRate', max=1.0, step=0.01)"
      ]
     },
     "metadata": {},
     "output_type": "display_data"
    },
    {
     "data": {
      "application/vnd.jupyter.widget-view+json": {
       "model_id": "41e2c4a6ad454b3db132dbe767338a55",
       "version_major": 2,
       "version_minor": 0
      },
      "text/plain": [
       "IntSlider(value=30, description='days', max=155)"
      ]
     },
     "metadata": {},
     "output_type": "display_data"
    }
   ],
   "source": [
    "import ipywidgets as widgets\n",
    "introRateW = widgets.IntSlider(min=0,max=10,value=5, description=\"introRate\")\n",
    "reproW = widgets.FloatSlider(min=0, max=5, step=0.1,value=2.4, description=\"reproduction\")\n",
    "infW = widgets.FloatSlider(min=0, max=1, step=.01, value=0.18, description=\"infRate\")\n",
    "daysW = widgets.IntSlider(min=0, max=155, value = 30, description=\"days\")\n",
    "display(introRateW, reproW, infW, daysW)"
   ]
  },
  {
   "cell_type": "code",
   "execution_count": 20,
   "metadata": {},
   "outputs": [],
   "source": [
    "introRate = float(introRateW.value)/10000.0\n",
    "reproduction = reproW.value\n",
    "infRate = infW.value\n",
    "days = daysW.value # the list for counting infectious people over simulation days.\n",
    "\n",
    "#initial infections based on the introRate\n",
    "peopleList = Env.initialInfection(peopleList, introRate)"
   ]
  },
  {
   "cell_type": "markdown",
   "metadata": {},
   "source": [
    "<a name=\"simulation\"></a>\n",
    "### Processes of the ABM model\n",
    "\n",
    "1. **for loop** was used to set up simulation perods.\n",
    "2. During each day, susceptible humans have a chance to be exposed to Influenza by infectious humans.\n",
    "3. The exposed humans were assumed to become infectious after an incubation period (3 days).\n",
    "4. The infected humans were assumed to recover after an infectious period (7 days)."
   ]
  },
  {
   "cell_type": "code",
   "execution_count": 21,
   "metadata": {
    "scrolled": false
   },
   "outputs": [
    {
     "data": {
      "application/vnd.jupyter.widget-view+json": {
       "model_id": "bc285c6c8f9e43acbcb087e0130f88d1",
       "version_major": 2,
       "version_minor": 0
      },
      "text/plain": [
       "HBox(children=(FloatProgress(value=0.0, description='Time Steps', max=29.0, style=ProgressStyle(description_wi…"
      ]
     },
     "metadata": {},
     "output_type": "display_data"
    },
    {
     "data": {
      "application/vnd.jupyter.widget-view+json": {
       "model_id": "",
       "version_major": 2,
       "version_minor": 0
      },
      "text/plain": [
       "HBox(children=(FloatProgress(value=0.0, description='Update States', max=33648.0, style=ProgressStyle(descript…"
      ]
     },
     "metadata": {},
     "output_type": "display_data"
    },
    {
     "data": {
      "application/vnd.jupyter.widget-view+json": {
       "model_id": "",
       "version_major": 2,
       "version_minor": 0
      },
      "text/plain": [
       "HBox(children=(FloatProgress(value=0.0, description='Infection', max=33648.0, style=ProgressStyle(description_…"
      ]
     },
     "metadata": {},
     "output_type": "display_data"
    },
    {
     "name": "stdout",
     "output_type": "stream",
     "text": [
      "Simulation Day:   1,  Remaining Days:  29,  # of infectious people:     8  took  0.24 seconds\n"
     ]
    },
    {
     "data": {
      "application/vnd.jupyter.widget-view+json": {
       "model_id": "",
       "version_major": 2,
       "version_minor": 0
      },
      "text/plain": [
       "HBox(children=(FloatProgress(value=0.0, description='Update States', max=33648.0, style=ProgressStyle(descript…"
      ]
     },
     "metadata": {},
     "output_type": "display_data"
    },
    {
     "data": {
      "application/vnd.jupyter.widget-view+json": {
       "model_id": "",
       "version_major": 2,
       "version_minor": 0
      },
      "text/plain": [
       "HBox(children=(FloatProgress(value=0.0, description='Infection', max=33648.0, style=ProgressStyle(description_…"
      ]
     },
     "metadata": {},
     "output_type": "display_data"
    },
    {
     "name": "stdout",
     "output_type": "stream",
     "text": [
      "Simulation Day:   2,  Remaining Days:  28,  # of infectious people:     9  took  0.26 seconds\n"
     ]
    },
    {
     "data": {
      "application/vnd.jupyter.widget-view+json": {
       "model_id": "",
       "version_major": 2,
       "version_minor": 0
      },
      "text/plain": [
       "HBox(children=(FloatProgress(value=0.0, description='Update States', max=33648.0, style=ProgressStyle(descript…"
      ]
     },
     "metadata": {},
     "output_type": "display_data"
    },
    {
     "data": {
      "application/vnd.jupyter.widget-view+json": {
       "model_id": "",
       "version_major": 2,
       "version_minor": 0
      },
      "text/plain": [
       "HBox(children=(FloatProgress(value=0.0, description='Infection', max=33648.0, style=ProgressStyle(description_…"
      ]
     },
     "metadata": {},
     "output_type": "display_data"
    },
    {
     "name": "stdout",
     "output_type": "stream",
     "text": [
      "Simulation Day:   3,  Remaining Days:  27,  # of infectious people:     4  took  0.27 seconds\n"
     ]
    },
    {
     "data": {
      "application/vnd.jupyter.widget-view+json": {
       "model_id": "",
       "version_major": 2,
       "version_minor": 0
      },
      "text/plain": [
       "HBox(children=(FloatProgress(value=0.0, description='Update States', max=33648.0, style=ProgressStyle(descript…"
      ]
     },
     "metadata": {},
     "output_type": "display_data"
    },
    {
     "data": {
      "application/vnd.jupyter.widget-view+json": {
       "model_id": "",
       "version_major": 2,
       "version_minor": 0
      },
      "text/plain": [
       "HBox(children=(FloatProgress(value=0.0, description='Infection', max=33648.0, style=ProgressStyle(description_…"
      ]
     },
     "metadata": {},
     "output_type": "display_data"
    },
    {
     "name": "stdout",
     "output_type": "stream",
     "text": [
      "Simulation Day:   4,  Remaining Days:  26,  # of infectious people:     6  took  0.34 seconds\n"
     ]
    },
    {
     "data": {
      "application/vnd.jupyter.widget-view+json": {
       "model_id": "",
       "version_major": 2,
       "version_minor": 0
      },
      "text/plain": [
       "HBox(children=(FloatProgress(value=0.0, description='Update States', max=33648.0, style=ProgressStyle(descript…"
      ]
     },
     "metadata": {},
     "output_type": "display_data"
    },
    {
     "data": {
      "application/vnd.jupyter.widget-view+json": {
       "model_id": "",
       "version_major": 2,
       "version_minor": 0
      },
      "text/plain": [
       "HBox(children=(FloatProgress(value=0.0, description='Infection', max=33648.0, style=ProgressStyle(description_…"
      ]
     },
     "metadata": {},
     "output_type": "display_data"
    },
    {
     "name": "stdout",
     "output_type": "stream",
     "text": [
      "Simulation Day:   5,  Remaining Days:  25,  # of infectious people:    11  took  0.27 seconds\n"
     ]
    },
    {
     "data": {
      "application/vnd.jupyter.widget-view+json": {
       "model_id": "",
       "version_major": 2,
       "version_minor": 0
      },
      "text/plain": [
       "HBox(children=(FloatProgress(value=0.0, description='Update States', max=33648.0, style=ProgressStyle(descript…"
      ]
     },
     "metadata": {},
     "output_type": "display_data"
    },
    {
     "data": {
      "application/vnd.jupyter.widget-view+json": {
       "model_id": "",
       "version_major": 2,
       "version_minor": 0
      },
      "text/plain": [
       "HBox(children=(FloatProgress(value=0.0, description='Infection', max=33648.0, style=ProgressStyle(description_…"
      ]
     },
     "metadata": {},
     "output_type": "display_data"
    },
    {
     "name": "stdout",
     "output_type": "stream",
     "text": [
      "Simulation Day:   6,  Remaining Days:  24,  # of infectious people:    10  took  0.31 seconds\n"
     ]
    },
    {
     "data": {
      "application/vnd.jupyter.widget-view+json": {
       "model_id": "",
       "version_major": 2,
       "version_minor": 0
      },
      "text/plain": [
       "HBox(children=(FloatProgress(value=0.0, description='Update States', max=33648.0, style=ProgressStyle(descript…"
      ]
     },
     "metadata": {},
     "output_type": "display_data"
    },
    {
     "data": {
      "application/vnd.jupyter.widget-view+json": {
       "model_id": "",
       "version_major": 2,
       "version_minor": 0
      },
      "text/plain": [
       "HBox(children=(FloatProgress(value=0.0, description='Infection', max=33648.0, style=ProgressStyle(description_…"
      ]
     },
     "metadata": {},
     "output_type": "display_data"
    },
    {
     "name": "stdout",
     "output_type": "stream",
     "text": [
      "Simulation Day:   7,  Remaining Days:  23,  # of infectious people:     6  took  0.37 seconds\n"
     ]
    },
    {
     "data": {
      "application/vnd.jupyter.widget-view+json": {
       "model_id": "",
       "version_major": 2,
       "version_minor": 0
      },
      "text/plain": [
       "HBox(children=(FloatProgress(value=0.0, description='Update States', max=33648.0, style=ProgressStyle(descript…"
      ]
     },
     "metadata": {},
     "output_type": "display_data"
    },
    {
     "data": {
      "application/vnd.jupyter.widget-view+json": {
       "model_id": "",
       "version_major": 2,
       "version_minor": 0
      },
      "text/plain": [
       "HBox(children=(FloatProgress(value=0.0, description='Infection', max=33648.0, style=ProgressStyle(description_…"
      ]
     },
     "metadata": {},
     "output_type": "display_data"
    },
    {
     "name": "stdout",
     "output_type": "stream",
     "text": [
      "Simulation Day:   8,  Remaining Days:  22,  # of infectious people:     8  took  0.27 seconds\n"
     ]
    },
    {
     "data": {
      "application/vnd.jupyter.widget-view+json": {
       "model_id": "",
       "version_major": 2,
       "version_minor": 0
      },
      "text/plain": [
       "HBox(children=(FloatProgress(value=0.0, description='Update States', max=33648.0, style=ProgressStyle(descript…"
      ]
     },
     "metadata": {},
     "output_type": "display_data"
    },
    {
     "data": {
      "application/vnd.jupyter.widget-view+json": {
       "model_id": "",
       "version_major": 2,
       "version_minor": 0
      },
      "text/plain": [
       "HBox(children=(FloatProgress(value=0.0, description='Infection', max=33648.0, style=ProgressStyle(description_…"
      ]
     },
     "metadata": {},
     "output_type": "display_data"
    },
    {
     "name": "stdout",
     "output_type": "stream",
     "text": [
      "Simulation Day:   9,  Remaining Days:  21,  # of infectious people:     7  took  0.36 seconds\n"
     ]
    },
    {
     "data": {
      "application/vnd.jupyter.widget-view+json": {
       "model_id": "",
       "version_major": 2,
       "version_minor": 0
      },
      "text/plain": [
       "HBox(children=(FloatProgress(value=0.0, description='Update States', max=33648.0, style=ProgressStyle(descript…"
      ]
     },
     "metadata": {},
     "output_type": "display_data"
    },
    {
     "data": {
      "application/vnd.jupyter.widget-view+json": {
       "model_id": "",
       "version_major": 2,
       "version_minor": 0
      },
      "text/plain": [
       "HBox(children=(FloatProgress(value=0.0, description='Infection', max=33648.0, style=ProgressStyle(description_…"
      ]
     },
     "metadata": {},
     "output_type": "display_data"
    },
    {
     "name": "stdout",
     "output_type": "stream",
     "text": [
      "Simulation Day:  10,  Remaining Days:  20,  # of infectious people:     8  took  0.39 seconds\n"
     ]
    },
    {
     "data": {
      "application/vnd.jupyter.widget-view+json": {
       "model_id": "",
       "version_major": 2,
       "version_minor": 0
      },
      "text/plain": [
       "HBox(children=(FloatProgress(value=0.0, description='Update States', max=33648.0, style=ProgressStyle(descript…"
      ]
     },
     "metadata": {},
     "output_type": "display_data"
    },
    {
     "data": {
      "application/vnd.jupyter.widget-view+json": {
       "model_id": "",
       "version_major": 2,
       "version_minor": 0
      },
      "text/plain": [
       "HBox(children=(FloatProgress(value=0.0, description='Infection', max=33648.0, style=ProgressStyle(description_…"
      ]
     },
     "metadata": {},
     "output_type": "display_data"
    },
    {
     "name": "stdout",
     "output_type": "stream",
     "text": [
      "Simulation Day:  11,  Remaining Days:  19,  # of infectious people:    10  took  0.41 seconds\n"
     ]
    },
    {
     "data": {
      "application/vnd.jupyter.widget-view+json": {
       "model_id": "",
       "version_major": 2,
       "version_minor": 0
      },
      "text/plain": [
       "HBox(children=(FloatProgress(value=0.0, description='Update States', max=33648.0, style=ProgressStyle(descript…"
      ]
     },
     "metadata": {},
     "output_type": "display_data"
    },
    {
     "data": {
      "application/vnd.jupyter.widget-view+json": {
       "model_id": "",
       "version_major": 2,
       "version_minor": 0
      },
      "text/plain": [
       "HBox(children=(FloatProgress(value=0.0, description='Infection', max=33648.0, style=ProgressStyle(description_…"
      ]
     },
     "metadata": {},
     "output_type": "display_data"
    },
    {
     "name": "stdout",
     "output_type": "stream",
     "text": [
      "Simulation Day:  12,  Remaining Days:  18,  # of infectious people:    17  took  0.41 seconds\n"
     ]
    },
    {
     "data": {
      "application/vnd.jupyter.widget-view+json": {
       "model_id": "",
       "version_major": 2,
       "version_minor": 0
      },
      "text/plain": [
       "HBox(children=(FloatProgress(value=0.0, description='Update States', max=33648.0, style=ProgressStyle(descript…"
      ]
     },
     "metadata": {},
     "output_type": "display_data"
    },
    {
     "data": {
      "application/vnd.jupyter.widget-view+json": {
       "model_id": "",
       "version_major": 2,
       "version_minor": 0
      },
      "text/plain": [
       "HBox(children=(FloatProgress(value=0.0, description='Infection', max=33648.0, style=ProgressStyle(description_…"
      ]
     },
     "metadata": {},
     "output_type": "display_data"
    },
    {
     "name": "stdout",
     "output_type": "stream",
     "text": [
      "Simulation Day:  13,  Remaining Days:  17,  # of infectious people:    18  took  0.45 seconds\n"
     ]
    },
    {
     "data": {
      "application/vnd.jupyter.widget-view+json": {
       "model_id": "",
       "version_major": 2,
       "version_minor": 0
      },
      "text/plain": [
       "HBox(children=(FloatProgress(value=0.0, description='Update States', max=33648.0, style=ProgressStyle(descript…"
      ]
     },
     "metadata": {},
     "output_type": "display_data"
    },
    {
     "data": {
      "application/vnd.jupyter.widget-view+json": {
       "model_id": "",
       "version_major": 2,
       "version_minor": 0
      },
      "text/plain": [
       "HBox(children=(FloatProgress(value=0.0, description='Infection', max=33648.0, style=ProgressStyle(description_…"
      ]
     },
     "metadata": {},
     "output_type": "display_data"
    },
    {
     "name": "stdout",
     "output_type": "stream",
     "text": [
      "Simulation Day:  14,  Remaining Days:  16,  # of infectious people:    20  took  0.36 seconds\n"
     ]
    },
    {
     "data": {
      "application/vnd.jupyter.widget-view+json": {
       "model_id": "",
       "version_major": 2,
       "version_minor": 0
      },
      "text/plain": [
       "HBox(children=(FloatProgress(value=0.0, description='Update States', max=33648.0, style=ProgressStyle(descript…"
      ]
     },
     "metadata": {},
     "output_type": "display_data"
    },
    {
     "data": {
      "application/vnd.jupyter.widget-view+json": {
       "model_id": "",
       "version_major": 2,
       "version_minor": 0
      },
      "text/plain": [
       "HBox(children=(FloatProgress(value=0.0, description='Infection', max=33648.0, style=ProgressStyle(description_…"
      ]
     },
     "metadata": {},
     "output_type": "display_data"
    },
    {
     "name": "stdout",
     "output_type": "stream",
     "text": [
      "Simulation Day:  15,  Remaining Days:  15,  # of infectious people:    15  took  0.45 seconds\n"
     ]
    },
    {
     "data": {
      "application/vnd.jupyter.widget-view+json": {
       "model_id": "",
       "version_major": 2,
       "version_minor": 0
      },
      "text/plain": [
       "HBox(children=(FloatProgress(value=0.0, description='Update States', max=33648.0, style=ProgressStyle(descript…"
      ]
     },
     "metadata": {},
     "output_type": "display_data"
    },
    {
     "data": {
      "application/vnd.jupyter.widget-view+json": {
       "model_id": "",
       "version_major": 2,
       "version_minor": 0
      },
      "text/plain": [
       "HBox(children=(FloatProgress(value=0.0, description='Infection', max=33648.0, style=ProgressStyle(description_…"
      ]
     },
     "metadata": {},
     "output_type": "display_data"
    },
    {
     "name": "stdout",
     "output_type": "stream",
     "text": [
      "Simulation Day:  16,  Remaining Days:  14,  # of infectious people:    27  took  0.34 seconds\n"
     ]
    },
    {
     "data": {
      "application/vnd.jupyter.widget-view+json": {
       "model_id": "",
       "version_major": 2,
       "version_minor": 0
      },
      "text/plain": [
       "HBox(children=(FloatProgress(value=0.0, description='Update States', max=33648.0, style=ProgressStyle(descript…"
      ]
     },
     "metadata": {},
     "output_type": "display_data"
    },
    {
     "data": {
      "application/vnd.jupyter.widget-view+json": {
       "model_id": "",
       "version_major": 2,
       "version_minor": 0
      },
      "text/plain": [
       "HBox(children=(FloatProgress(value=0.0, description='Infection', max=33648.0, style=ProgressStyle(description_…"
      ]
     },
     "metadata": {},
     "output_type": "display_data"
    },
    {
     "name": "stdout",
     "output_type": "stream",
     "text": [
      "Simulation Day:  17,  Remaining Days:  13,  # of infectious people:    24  took  0.49 seconds\n"
     ]
    },
    {
     "data": {
      "application/vnd.jupyter.widget-view+json": {
       "model_id": "",
       "version_major": 2,
       "version_minor": 0
      },
      "text/plain": [
       "HBox(children=(FloatProgress(value=0.0, description='Update States', max=33648.0, style=ProgressStyle(descript…"
      ]
     },
     "metadata": {},
     "output_type": "display_data"
    },
    {
     "data": {
      "application/vnd.jupyter.widget-view+json": {
       "model_id": "",
       "version_major": 2,
       "version_minor": 0
      },
      "text/plain": [
       "HBox(children=(FloatProgress(value=0.0, description='Infection', max=33648.0, style=ProgressStyle(description_…"
      ]
     },
     "metadata": {},
     "output_type": "display_data"
    },
    {
     "name": "stdout",
     "output_type": "stream",
     "text": [
      "Simulation Day:  18,  Remaining Days:  12,  # of infectious people:    24  took  0.54 seconds\n"
     ]
    },
    {
     "data": {
      "application/vnd.jupyter.widget-view+json": {
       "model_id": "",
       "version_major": 2,
       "version_minor": 0
      },
      "text/plain": [
       "HBox(children=(FloatProgress(value=0.0, description='Update States', max=33648.0, style=ProgressStyle(descript…"
      ]
     },
     "metadata": {},
     "output_type": "display_data"
    },
    {
     "data": {
      "application/vnd.jupyter.widget-view+json": {
       "model_id": "",
       "version_major": 2,
       "version_minor": 0
      },
      "text/plain": [
       "HBox(children=(FloatProgress(value=0.0, description='Infection', max=33648.0, style=ProgressStyle(description_…"
      ]
     },
     "metadata": {},
     "output_type": "display_data"
    },
    {
     "name": "stdout",
     "output_type": "stream",
     "text": [
      "Simulation Day:  19,  Remaining Days:  11,  # of infectious people:    26  took  0.65 seconds\n"
     ]
    },
    {
     "data": {
      "application/vnd.jupyter.widget-view+json": {
       "model_id": "",
       "version_major": 2,
       "version_minor": 0
      },
      "text/plain": [
       "HBox(children=(FloatProgress(value=0.0, description='Update States', max=33648.0, style=ProgressStyle(descript…"
      ]
     },
     "metadata": {},
     "output_type": "display_data"
    },
    {
     "data": {
      "application/vnd.jupyter.widget-view+json": {
       "model_id": "",
       "version_major": 2,
       "version_minor": 0
      },
      "text/plain": [
       "HBox(children=(FloatProgress(value=0.0, description='Infection', max=33648.0, style=ProgressStyle(description_…"
      ]
     },
     "metadata": {},
     "output_type": "display_data"
    },
    {
     "name": "stdout",
     "output_type": "stream",
     "text": [
      "Simulation Day:  20,  Remaining Days:  10,  # of infectious people:    32  took  0.48 seconds\n"
     ]
    },
    {
     "data": {
      "application/vnd.jupyter.widget-view+json": {
       "model_id": "",
       "version_major": 2,
       "version_minor": 0
      },
      "text/plain": [
       "HBox(children=(FloatProgress(value=0.0, description='Update States', max=33648.0, style=ProgressStyle(descript…"
      ]
     },
     "metadata": {},
     "output_type": "display_data"
    },
    {
     "data": {
      "application/vnd.jupyter.widget-view+json": {
       "model_id": "",
       "version_major": 2,
       "version_minor": 0
      },
      "text/plain": [
       "HBox(children=(FloatProgress(value=0.0, description='Infection', max=33648.0, style=ProgressStyle(description_…"
      ]
     },
     "metadata": {},
     "output_type": "display_data"
    },
    {
     "name": "stdout",
     "output_type": "stream",
     "text": [
      "Simulation Day:  21,  Remaining Days:   9,  # of infectious people:    28  took  0.69 seconds\n"
     ]
    },
    {
     "data": {
      "application/vnd.jupyter.widget-view+json": {
       "model_id": "",
       "version_major": 2,
       "version_minor": 0
      },
      "text/plain": [
       "HBox(children=(FloatProgress(value=0.0, description='Update States', max=33648.0, style=ProgressStyle(descript…"
      ]
     },
     "metadata": {},
     "output_type": "display_data"
    },
    {
     "data": {
      "application/vnd.jupyter.widget-view+json": {
       "model_id": "",
       "version_major": 2,
       "version_minor": 0
      },
      "text/plain": [
       "HBox(children=(FloatProgress(value=0.0, description='Infection', max=33648.0, style=ProgressStyle(description_…"
      ]
     },
     "metadata": {},
     "output_type": "display_data"
    },
    {
     "name": "stdout",
     "output_type": "stream",
     "text": [
      "Simulation Day:  22,  Remaining Days:   8,  # of infectious people:    33  took  0.90 seconds\n"
     ]
    },
    {
     "data": {
      "application/vnd.jupyter.widget-view+json": {
       "model_id": "",
       "version_major": 2,
       "version_minor": 0
      },
      "text/plain": [
       "HBox(children=(FloatProgress(value=0.0, description='Update States', max=33648.0, style=ProgressStyle(descript…"
      ]
     },
     "metadata": {},
     "output_type": "display_data"
    },
    {
     "data": {
      "application/vnd.jupyter.widget-view+json": {
       "model_id": "",
       "version_major": 2,
       "version_minor": 0
      },
      "text/plain": [
       "HBox(children=(FloatProgress(value=0.0, description='Infection', max=33648.0, style=ProgressStyle(description_…"
      ]
     },
     "metadata": {},
     "output_type": "display_data"
    },
    {
     "name": "stdout",
     "output_type": "stream",
     "text": [
      "Simulation Day:  23,  Remaining Days:   7,  # of infectious people:    39  took  0.90 seconds\n"
     ]
    },
    {
     "data": {
      "application/vnd.jupyter.widget-view+json": {
       "model_id": "",
       "version_major": 2,
       "version_minor": 0
      },
      "text/plain": [
       "HBox(children=(FloatProgress(value=0.0, description='Update States', max=33648.0, style=ProgressStyle(descript…"
      ]
     },
     "metadata": {},
     "output_type": "display_data"
    },
    {
     "data": {
      "application/vnd.jupyter.widget-view+json": {
       "model_id": "",
       "version_major": 2,
       "version_minor": 0
      },
      "text/plain": [
       "HBox(children=(FloatProgress(value=0.0, description='Infection', max=33648.0, style=ProgressStyle(description_…"
      ]
     },
     "metadata": {},
     "output_type": "display_data"
    },
    {
     "name": "stdout",
     "output_type": "stream",
     "text": [
      "Simulation Day:  24,  Remaining Days:   6,  # of infectious people:    44  took  0.89 seconds\n"
     ]
    },
    {
     "data": {
      "application/vnd.jupyter.widget-view+json": {
       "model_id": "",
       "version_major": 2,
       "version_minor": 0
      },
      "text/plain": [
       "HBox(children=(FloatProgress(value=0.0, description='Update States', max=33648.0, style=ProgressStyle(descript…"
      ]
     },
     "metadata": {},
     "output_type": "display_data"
    },
    {
     "data": {
      "application/vnd.jupyter.widget-view+json": {
       "model_id": "",
       "version_major": 2,
       "version_minor": 0
      },
      "text/plain": [
       "HBox(children=(FloatProgress(value=0.0, description='Infection', max=33648.0, style=ProgressStyle(description_…"
      ]
     },
     "metadata": {},
     "output_type": "display_data"
    },
    {
     "name": "stdout",
     "output_type": "stream",
     "text": [
      "Simulation Day:  25,  Remaining Days:   5,  # of infectious people:    57  took  0.88 seconds\n"
     ]
    },
    {
     "data": {
      "application/vnd.jupyter.widget-view+json": {
       "model_id": "",
       "version_major": 2,
       "version_minor": 0
      },
      "text/plain": [
       "HBox(children=(FloatProgress(value=0.0, description='Update States', max=33648.0, style=ProgressStyle(descript…"
      ]
     },
     "metadata": {},
     "output_type": "display_data"
    },
    {
     "data": {
      "application/vnd.jupyter.widget-view+json": {
       "model_id": "",
       "version_major": 2,
       "version_minor": 0
      },
      "text/plain": [
       "HBox(children=(FloatProgress(value=0.0, description='Infection', max=33648.0, style=ProgressStyle(description_…"
      ]
     },
     "metadata": {},
     "output_type": "display_data"
    },
    {
     "name": "stdout",
     "output_type": "stream",
     "text": [
      "Simulation Day:  26,  Remaining Days:   4,  # of infectious people:    64  took  0.92 seconds\n"
     ]
    },
    {
     "data": {
      "application/vnd.jupyter.widget-view+json": {
       "model_id": "",
       "version_major": 2,
       "version_minor": 0
      },
      "text/plain": [
       "HBox(children=(FloatProgress(value=0.0, description='Update States', max=33648.0, style=ProgressStyle(descript…"
      ]
     },
     "metadata": {},
     "output_type": "display_data"
    },
    {
     "data": {
      "application/vnd.jupyter.widget-view+json": {
       "model_id": "",
       "version_major": 2,
       "version_minor": 0
      },
      "text/plain": [
       "HBox(children=(FloatProgress(value=0.0, description='Infection', max=33648.0, style=ProgressStyle(description_…"
      ]
     },
     "metadata": {},
     "output_type": "display_data"
    },
    {
     "name": "stdout",
     "output_type": "stream",
     "text": [
      "Simulation Day:  27,  Remaining Days:   3,  # of infectious people:    76  took  0.87 seconds\n"
     ]
    },
    {
     "data": {
      "application/vnd.jupyter.widget-view+json": {
       "model_id": "",
       "version_major": 2,
       "version_minor": 0
      },
      "text/plain": [
       "HBox(children=(FloatProgress(value=0.0, description='Update States', max=33648.0, style=ProgressStyle(descript…"
      ]
     },
     "metadata": {},
     "output_type": "display_data"
    },
    {
     "data": {
      "application/vnd.jupyter.widget-view+json": {
       "model_id": "",
       "version_major": 2,
       "version_minor": 0
      },
      "text/plain": [
       "HBox(children=(FloatProgress(value=0.0, description='Infection', max=33648.0, style=ProgressStyle(description_…"
      ]
     },
     "metadata": {},
     "output_type": "display_data"
    },
    {
     "name": "stdout",
     "output_type": "stream",
     "text": [
      "Simulation Day:  28,  Remaining Days:   2,  # of infectious people:    75  took  1.01 seconds\n"
     ]
    },
    {
     "data": {
      "application/vnd.jupyter.widget-view+json": {
       "model_id": "",
       "version_major": 2,
       "version_minor": 0
      },
      "text/plain": [
       "HBox(children=(FloatProgress(value=0.0, description='Update States', max=33648.0, style=ProgressStyle(descript…"
      ]
     },
     "metadata": {},
     "output_type": "display_data"
    },
    {
     "data": {
      "application/vnd.jupyter.widget-view+json": {
       "model_id": "",
       "version_major": 2,
       "version_minor": 0
      },
      "text/plain": [
       "HBox(children=(FloatProgress(value=0.0, description='Infection', max=33648.0, style=ProgressStyle(description_…"
      ]
     },
     "metadata": {},
     "output_type": "display_data"
    },
    {
     "name": "stdout",
     "output_type": "stream",
     "text": [
      "Simulation Day:  29,  Remaining Days:   1,  # of infectious people:    74  took  1.22 seconds\n",
      "\n",
      "\n",
      "\n",
      " Total Simulation Time: 0.3 minutes.\n"
     ]
    }
   ],
   "source": [
    "from tqdm.notebook import tqdm\n",
    "total_simulation_time=0\n",
    "infectiousCount=[]\n",
    "exposedX = []\n",
    "exposedY = []\n",
    "exposedT = []\n",
    "\n",
    "for t in tqdm(range(1,days), desc=\"Time Steps\"):\n",
    "    start = time.time()\n",
    "    susceptibleList=[]\n",
    "    exposedList=[]\n",
    "    infectiousList=[]\n",
    "    recoveredList=[]\n",
    "    for p in tqdm(range(0,len(peopleList)), desc=\"Update States\", leave=False):\n",
    "        person = peopleList[p]\n",
    "        person.incubating()\n",
    "        person.recovering()\n",
    "       \n",
    "        if (person.S==True):\n",
    "            susceptibleList.append(person)\n",
    "        if (person.E==True):\n",
    "            exposedList.append(person)\n",
    "        if (person.I==True):\n",
    "            infectiousList.append(person)\n",
    "        if (person.R==True):\n",
    "            recoveredList.append(person)\n",
    "            if (person.recT is None):\n",
    "                person.recT = t;\n",
    "        if (person.infT==t):\n",
    "            exposedX.append(person.infX)\n",
    "            exposedY.append(person.infY)\n",
    "            exposedT.append(person.infT)\n",
    "            \n",
    "    infectiousCount.append(len(infectiousList))\n",
    "    \n",
    "    for p in tqdm(peopleList, desc=\"Infection\", leave=False):\n",
    "        p.infecting(peopleList, infRate, reproduction, t) #infecting function is included in Human.py\n",
    "        \n",
    "    iteration_time = time.time()-start\n",
    "    total_simulation_time+=iteration_time\n",
    "    print(\"Simulation Day: {:3d},  Remaining Days: {:3d},  # of infectious people: {:5d}  took  {:4.2f} seconds\".format(t, days-t,len(exposedList),iteration_time))\n",
    "    \n",
    "\n",
    "total_simulation_time/=60.0 # get minutes\n",
    "hours = False\n",
    "daysBool = False\n",
    "if total_simulation_time >= 60:\n",
    "    total_simulation_time/=60.0 # get hours\n",
    "    hours = True\n",
    "    if total_simulation_time >= 24:\n",
    "        total_simulation_time/=24.0\n",
    "        daysBool = True\n",
    "        \n",
    "if not (hours and days):\n",
    "    print(\"\\n\\n Total Simulation Time: {:.1f} minutes.\".format(total_simulation_time))\n",
    "elif not daysBool:\n",
    "    print(\"\\n\\n Total Simulation Time: {:.1f} hours.\".format(total_simulation_time))\n",
    "else:\n",
    "    print(\"\\n\\n Total Simulation Time: {:.1f} days.\".format(total_simulation_time))"
   ]
  },
  {
   "cell_type": "markdown",
   "metadata": {},
   "source": [
    "This saves the simulation results to a .csv file to test for stochasticity later. Each time the simulation is run, every function starting with \"Synthesize a Population\" must be rerun."
   ]
  },
  {
   "cell_type": "markdown",
   "metadata": {},
   "source": [
    "<a name=\"vis\"></a>\n",
    "## Visualization"
   ]
  },
  {
   "cell_type": "code",
   "execution_count": 22,
   "metadata": {},
   "outputs": [
    {
     "data": {
      "text/plain": [
       "Text(0, 0.5, 'Number of people')"
      ]
     },
     "execution_count": 22,
     "metadata": {},
     "output_type": "execute_result"
    },
    {
     "data": {
      "image/png": "[encoded data removed]",
      "text/plain": [
       "<Figure size 1008x504 with 1 Axes>"
      ]
     },
     "metadata": {
      "needs_background": "light"
     },
     "output_type": "display_data"
    },
    {
     "data": {
      "image/png": "[encoded data removed]",
      "text/plain": [
       "<Figure size 1008x504 with 1 Axes>"
      ]
     },
     "metadata": {
      "needs_background": "light"
     },
     "output_type": "display_data"
    }
   ],
   "source": [
    "## Visualization of the simulated flu cases\n",
    "realdata = pd.read_csv('./data/{}/fludata.csv'.format(CITY))\n",
    "plt.figure(figsize=(14,7))\n",
    "plt.plot(realdata['Date'], realdata['Positive'])\n",
    "infCases=pd.DataFrame({'time':range(1,days),'infectious':infectiousCount})\n",
    "plt.figure(figsize=(14,7))\n",
    "plt.plot(infCases['time'],infCases['infectious'])\n",
    "plt.title('The number of infectious people over day of year', size=20)\n",
    "plt.xlabel(\"Days\", size=15)\n",
    "plt.ylabel(\"Number of people\", size=15)"
   ]
  },
  {
   "cell_type": "code",
   "execution_count": 23,
   "metadata": {},
   "outputs": [
    {
     "name": "stderr",
     "output_type": "stream",
     "text": [
      "/opt/conda/lib/python3.7/site-packages/ipykernel_launcher.py:9: MatplotlibDeprecationWarning: Adding an axes using the same arguments as a previous axes currently reuses the earlier instance.  In a future version, a new instance will always be created and returned.  Meanwhile, this warning can be suppressed, and the future behavior ensured, by passing a unique label to each axes instance.\n",
      "  if __name__ == '__main__':\n"
     ]
    },
    {
     "data": {
      "image/png": "[encoded data removed]",
      "text/plain": [
       "<Figure size 1008x504 with 1 Axes>"
      ]
     },
     "metadata": {
      "needs_background": "light"
     },
     "output_type": "display_data"
    }
   ],
   "source": [
    "## Visualization of actual flu data from the Queen Anne neighbhorhood in Seattle\n",
    "realdata = pd.read_csv('./data/{}/fludata.csv'.format(CITY))\n",
    "plt.figure(figsize=(14,7))\n",
    "plt.plot(realdata['Date'], realdata['Positive'])\n",
    "plt.title('The number of infectious people over day of year', size=20)\n",
    "plt.xlabel(\"Date\", size=15)\n",
    "plt.ylabel(\"Number of infectious people\", size=15)\n",
    "import matplotlib.ticker as ticker\n",
    "ax = plt.axes()\n",
    "ax.xaxis.set_major_locator(ticker.MultipleLocator(5))"
   ]
  },
  {
   "cell_type": "code",
   "execution_count": 24,
   "metadata": {},
   "outputs": [],
   "source": [
    "# Make the list of information of influenza outbreaks.\n",
    "houseX=[peopleList[i].houseX for i in range(len(peopleList)) if peopleList[i].infX != None]\n",
    "houseY=[peopleList[i].houseY for i in range(len(peopleList)) if peopleList[i].infY != None]\n",
    "\n",
    "exposedX=[peopleList[i].infX for i in range(len(peopleList)) if peopleList[i].infX != None]\n",
    "exposedY=[peopleList[i].infY for i in range(len(peopleList)) if peopleList[i].infY != None]\n",
    "exposedT=[peopleList[i].infT for i in range(len(peopleList)) if peopleList[i].infX != None]\n",
    "\n",
    "recoveredX=[peopleList[i].houseX for i in range(len(peopleList)) if peopleList[i].recT != None]\n",
    "recoveredY=[peopleList[i].houseY for i in range(len(peopleList)) if peopleList[i].recT != None]\n",
    "recoveredT=[peopleList[i].recT for i in range(len(peopleList)) if peopleList[i].recT != None]"
   ]
  },
  {
   "cell_type": "markdown",
   "metadata": {},
   "source": [
    "Output file will be saved as _results.csv_"
   ]
  },
  {
   "cell_type": "code",
   "execution_count": 25,
   "metadata": {},
   "outputs": [],
   "source": [
    "results = pd.DataFrame({'time':exposedT, 'xCoord':exposedX, 'yCoord':exposedY})\n",
    "results.to_csv('data/{}/results.csv'.format(CITY))"
   ]
  },
  {
   "cell_type": "code",
   "execution_count": 26,
   "metadata": {},
   "outputs": [],
   "source": [
    "results = pd.read_csv('data/{}/results.csv'.format(CITY))"
   ]
  },
  {
   "cell_type": "markdown",
   "metadata": {},
   "source": [
    "## Make a video of infection and recovery cases."
   ]
  },
  {
   "cell_type": "code",
   "execution_count": 27,
   "metadata": {},
   "outputs": [
    {
     "name": "stderr",
     "output_type": "stream",
     "text": [
      "/opt/conda/lib/python3.7/site-packages/ipykernel_launcher.py:21: MatplotlibDeprecationWarning: Adding an axes using the same arguments as a previous axes currently reuses the earlier instance.  In a future version, a new instance will always be created and returned.  Meanwhile, this warning can be suppressed, and the future behavior ensured, by passing a unique label to each axes instance.\n"
     ]
    }
   ],
   "source": [
    "xmin = 546302;\n",
    "xmax = 549610;\n",
    "ymin = 5274394;\n",
    "ymax = 5277978;\n",
    "\n",
    "for t in range(days):\n",
    "    fig = plt.figure() # size of figure\n",
    "    \n",
    "    ilistX = [houseX[i] for i in range(len(exposedX)) if exposedT[i] <= t]\n",
    "    ilistY = [houseY[i] for i in range(len(exposedY)) if exposedT[i] <= t]\n",
    "    rlistX = [recoveredX[i] for i in range(len(recoveredX)) if recoveredT[i] <= t]\n",
    "    rlistY = [recoveredY[i] for i in range(len(recoveredY)) if recoveredT[i] <= t]\n",
    "    plt.scatter(houses['X'],houses['Y'], s = 0.2, c = '0.8') # drawing scatter plots of households' locations\n",
    "    plt.scatter(ilistX,ilistY, s = 10, c = 'r', label ='Infectious cases')\n",
    "    plt.scatter(rlistX,rlistY, s = 10, c = 'b', label ='Recovered cases')\n",
    "    plt.xlabel(\"UTM X-Coordinates\", size=15)\n",
    "    plt.ylabel(\"UTM Y-Coordinates\", size=15)\n",
    "    plt.xlim(xmin,xmax)\n",
    "    plt.ylim(ymin,ymax)\n",
    "    plt.title('Time = '+str(t)+' days, I(t) = '+str(len(ilistX)-len(rlistX)), size = 20)\n",
    "    plt.axes().set_aspect('equal', 'datalim')\n",
    "    plt.legend(markerscale = 2.0)\n",
    "    plt.tight_layout()    \n",
    "    \n",
    "    fig.savefig('img/Figures/figure%d.png' % t, dpi=300)\n",
    "    pylab.close(fig);\n",
    "    "
   ]
  },
  {
   "cell_type": "code",
   "execution_count": 28,
   "metadata": {},
   "outputs": [],
   "source": [
    "frames = []\n",
    "    \n",
    "fig = plt.figure(figsize=(15,15))\n",
    "plt.xticks([])\n",
    "plt.yticks([])\n",
    "plt.tight_layout()    \n",
    "for t in range(days):\n",
    "    img = mpimg.imread('img/Figures/figure%d.png' % t) \n",
    "    frames.append([plt.imshow(img, animated=True)])\n",
    "\n",
    "pylab.close(fig);\n",
    "ani = animation.ArtistAnimation(fig, frames, interval=500, blit=False)\n",
    "ani.save('img/movie.mp4')"
   ]
  },
  {
   "cell_type": "code",
   "execution_count": 63,
   "metadata": {},
   "outputs": [
    {
     "data": {
      "text/html": [
       "<video width=\"960p\" height=\"720p\" alt=\"test\" controls>\n",
       "                <source src=\"data:video/mp4;base64,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\" type=\"video/mp4\" />\n",
       "             </video>"
      ],
      "text/plain": [
       "<IPython.core.display.HTML object>"
      ]
     },
     "execution_count": 63,
     "metadata": {},
     "output_type": "execute_result"
    }
   ],
   "source": [
    "import io\n",
    "import base64\n",
    "from IPython.display import HTML\n",
    "\n",
    "video = io.open(\"img/movie.mp4\", 'r+b').read()\n",
    "encoded = base64.b64encode(video)\n",
    "HTML(data='''<video width=\"960p\" height=\"720p\" alt=\"test\" controls>\n",
    "                <source src=\"data:video/mp4;base64,{0}\" type=\"video/mp4\" />\n",
    "             </video>'''.format(encoded.decode('ascii')))"
   ]
  },
  {
   "cell_type": "code",
   "execution_count": 110,
   "metadata": {},
   "outputs": [],
   "source": [
    "import geopandas as gpd\n",
    "county_geo = gpd.read_file('./data/shapefiles/qanne.geojson')\n",
    "county_geo_data = county_geo.to_crs(epsg='4326').to_json()\n",
    "result_data = pd.read_csv(\"./data/QueenAnne/results.csv\")\n",
    "\n",
    "myProj = Proj(\"+proj=utm +zone=10N, +north +ellps=WGS84 +datum=WGS84 +units=m +no_defs\")\n",
    "lonlat = myProj(result_data['xCoord'].values.tolist(), result_data['yCoord'].values.tolist(), inverse=True)\n",
    "result_data['lat'] = lonlat[1]\n",
    "result_data['lon'] = lonlat[0]\n",
    "from folium.plugins import HeatMap\n",
    "heat_data = [[row['lat'],row['lon']] for index, row in result_data.iterrows()]\n",
    "\n",
    "heat_data_2 = [[[row['lat'],row['lon']] for index, \n",
    "              row in result_data[result_data['time'] == i].iterrows()] for i in range(0,155)]"
   ]
  },
  {
   "cell_type": "code",
   "execution_count": 113,
   "metadata": {
    "scrolled": false
   },
   "outputs": [
    {
     "data": {
      "text/html": [
       "\n",
       "        <iframe\n",
       "            width=\"900\"\n",
       "            height=\"1000\"\n",
       "            src=\"./maps/HeatMap.html\"\n",
       "            frameborder=\"0\"\n",
       "            allowfullscreen\n",
       "        ></iframe>\n",
       "        "
      ],
      "text/plain": [
       "<IPython.lib.display.IFrame at 0x7f8d846bb350>"
      ]
     },
     "execution_count": 113,
     "metadata": {},
     "output_type": "execute_result"
    }
   ],
   "source": [
    "from folium import plugins\n",
    "m = folium.Map(location=[47.648972, -122.361579], tiles = 'cartodbpositron', zoom_start=13)\n",
    "\n",
    "\n",
    "heatmap = plugins.HeatMapWithTime(heat_data_2,auto_play=True,max_opacity=1,\n",
    "                                  radius = 20,\n",
    "                                  name='Influenza Cases Time Series', \n",
    "                                  gradient={.6: 'PINK', .95: 'RED', 1: 'CRIMSON'})\n",
    "\n",
    "heatmap.add_to(m)\n",
    "m.save('./maps/HeatMap.html')\n",
    "\n",
    "from IPython.display import IFrame\n",
    "\n",
    "IFrame(src='./maps/HeatMap.html', width=900, height=1000)"
   ]
  },
  {
   "cell_type": "markdown",
   "metadata": {},
   "source": [
    "<a name=\"RR\"></a>\n",
    "## 5. Contributions to Reproducibility and Replicability"
   ]
  },
  {
   "cell_type": "markdown",
   "metadata": {},
   "source": [
    "* Replicability\n",
    "    * Adapted original model using data obtained for different city with different population structure (different datasets and parameters)\n",
    "    * Improved model through comprehensive documentation, which makes it more reproducible and replicable for future work\n",
    "\n",
    "* Reproducibility\n",
    "    * Made code more easily adaptable to other cities or areas through the use of intuitive parameter sliders and data replacement\n",
    "    * Clear documentation of access, synthesis, analysis, and visualization of open data sources"
   ]
  },
  {
   "cell_type": "markdown",
   "metadata": {},
   "source": [
    "<a name=\"future\"></a>\n",
    "## 6. Future Work"
   ]
  },
  {
   "cell_type": "markdown",
   "metadata": {},
   "source": [
    "1. How can the contact networks be better represented?\n",
    "  * Infection rate as a function of age group (specify more vulnerable age groups) and/or immunity status (based on vaccine coverage data or based on age-specific vaccine coverage)\n",
    "  * Different representations of connections (e.g., hypergraph where any set of nodes can be connected to better represent household)\n",
    "  * Better represent real-world scenarios with certain age groups going to different types of schools, modeling       work-from-home populations, college and university students who live and work on campuses, and factor in          additional points of contact like daycares, nursing homes, and public spaces\n",
    "  * How do socioeconomic factors such as race/ethnicity or income affect the susceptibility, infectability, and recovery rates of the population?\n",
    "  * Current assumption that agents move from household to nearest workplace or school, so address that using geography of city, public transportation, etc. and gravity models\n",
    "  * Additionally assumes that the population is fixed (no one leaves or enters the population, no deaths or births)\n",
    "2. Improve environment parameters of model\n",
    "  * In addition to human agents, model schools/workplaces/households as agents with their own attributes and methods to respond to some condition (e.g., school closures due to influenza outbreak and how that impacts the results)\n",
    "  * Change temporal specifications of the model (e.g., run in 8-hour increments rather than one day, after every 15 units, assume 6 units of leisure for workday versus weekend)\n",
    "  * How can the natural environment be factored into the model? (e.g., atmospheric predictors such as absolute temperature and humidity)\n",
    "  * Are there marginal effects? (i.e., are people living in the periphery infecting other people outside the research area?)\n",
    "  * How does variation in household size impact the results? What about family and non-family household classification?\n",
    "3. Do results of the simulation correspond to observation reports?\n",
    "  * Results of the model supported by observed influenza data\n",
    "  * Various ways to validate model that could be explored\n",
    "  * Sensitivity analysis 1: mitigate mismatch between model outcomes and observations through variance-based global sensitivity analysis (GSA) to detect appropriate model specification and parameterization(Kang and Aldstadt, 2019)\n",
    "  * Sensitivity analysis 2: percentage change of infections (such as single parameter, multiple parameters based on deviation and coefficients) (Guo et al, 2015)\n",
    "  * Compare total number of infection cases to empirical data\n",
    "  * Additional validation techniques like uncertainty analysis\n",
    "  * Examine reproducibility of ABM by using statistical analyses to compare results\n",
    "4. How can this model be adapted to a broader study context?\n",
    "  * Empirical input data: list of households, schools, workplaces\n",
    "  * Can the algorithm be applied to simulate the disease spread in other eras?\n",
    "  * Can the algorithm be applied to simulate a city with a similar scale?\n",
    "  * Can the algorithm be applied to a more rural area (less densely populated)?\n",
    "  * Potential to look at how the model could be adapted for other diseases (changing incubation period, mode of transmission, etc.)\n",
    "  \n",
    "Explore future publications"
   ]
  },
  {
   "cell_type": "markdown",
   "metadata": {},
   "source": [
    "<a name=\"ref\"></a>\n",
    "## 7. References\n",
    "\n",
    "Florida Health. (2019). Florida Influenza Surveillance Reports. Accessed July 2019. http://www.floridahealth.gov/diseases-and-conditions/influenza/florida-influenza-surveillance-report-archive/index.html.\n",
    "\n",
    "Guo, D., Li, K. C., Peters, T. R., Snively, B. M., Poehling, K. A., & Zhou, X. (2015). Multi-scale modeling for the transmission of influenza and the evaluation of interventions toward it. Scientific reports, 5, 8980. Accessed July 2019. https://www.nature.com/articles/srep08980.\n",
    "\n",
    "Helmholtz. (2016). The ODD Protocol for describing individual-based and agent-based models. Accessed July 2019. https://www.ufz.de/export/data/2/100067_ODD_Update_template.doc.\n",
    "\n",
    "Kang, J. Y., & Aldstadt, J. (2019). Using multiple scale space-time patterns in variance-based global sensitivity analysis for spatially explicit agent-based models. Computers, Environment and Urban Systems, 75, 170-183.\n",
    "\n",
    "Lowen, A. C., Mubareka, S., Steel, J., & Palese, P. (2007). Influenza virus transmission is dependent on relative humidity and temperature. PLoS pathogens, 3(10), e151.\n",
    "\n",
    "Mao, L., & Bian, L. (2010). Spatial–temporal transmission of influenza and its health risks in an urbanized area. Computers, Environment and Urban Systems, 34(3), 204-215.\n",
    "\n",
    "QUEBS. (2013). The ODD protocol for documenting agent-based models. Accessed July 2019. https://qubeshub.org/community/groups/odd.\n",
    "\n",
    "Seattle & King County Public Health. (2019). King County Influenza Update: May 4, 2019. Accessed July 2019. https://www.kingcounty.gov/depts/health/communicable-diseases/disease-control/~/media/depts/health/communicable-diseases/documents/influenza/2019/week-18.ashx.\n",
    "\n",
    "Tracy, Melissa, Magdalena Cerda, and Katherine M. Keyes. (2018). Agent-Based Modeling in\n",
    "Public Health: Current Applications and Future Directions. Annual Review of Public Health 39:77–94. Accessed July 2019. https://doi.org/10.1146/annurev-publhealth040617-014317.\n",
    "\n",
    "Willem, Lander. (2015). Agent-Based Models For Infectious Disease Transmission: Exploration, Estimation & Computational Efficiency. PhD dissertation. University of Antwerp. Accessed July 2019. https://ibiostat.be/publications/phd/landerwillem.pdf."
   ]
  },
  {
   "cell_type": "code",
   "execution_count": null,
   "metadata": {},
   "outputs": [],
   "source": []
  }
 ],
 "metadata": {
  "kernelspec": {
   "display_name": "Python 3",
   "language": "python",
   "name": "python3"
  },
  "language_info": {
   "codemirror_mode": {
    "name": "ipython",
    "version": 3
   },
   "file_extension": ".py",
   "mimetype": "text/x-python",
   "name": "python",
   "nbconvert_exporter": "python",
   "pygments_lexer": "ipython3",
   "version": "3.7.6"
  }
 },
 "nbformat": 4,
 "nbformat_minor": 2
}
